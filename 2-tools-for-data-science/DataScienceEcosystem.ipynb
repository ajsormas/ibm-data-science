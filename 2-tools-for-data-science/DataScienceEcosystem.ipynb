{
 "cells": [
  {
   "cell_type": "markdown",
   "id": "76ee7d60-1bc7-44b0-8835-b0f6b9324822",
   "metadata": {},
   "source": [
    "# Data Science Tools and Ecosystem"
   ]
  },
  {
   "cell_type": "markdown",
   "id": "e373ecb1-d512-454a-ac6a-b3df5d40937b",
   "metadata": {},
   "source": [
    "In this notebook, Data Science Tools and Ecosystem are summarized."
   ]
  },
  {
   "cell_type": "markdown",
   "id": "81332e14-5d5a-4e00-9029-51ba0e661409",
   "metadata": {},
   "source": [
    "Some of the popular languages that Data Scientists use are:\n",
    "1. Python\n",
    "2. R\n",
    "3. Java\n",
    "4. Scala\n",
    "5. Julia"
   ]
  },
  {
   "cell_type": "markdown",
   "id": "bb893ac9-83e9-4a9b-af91-422ea1834542",
   "metadata": {},
   "source": [
    "Some of the commonly used libraries used by Data Scientists include:\n",
    "1. Numpy\n",
    "2. Pandas\n",
    "3. Matploit\n",
    "4. Tensorflow"
   ]
  },
  {
   "cell_type": "markdown",
   "id": "665d9395-8812-4852-b094-b075b68472b5",
   "metadata": {},
   "source": [
    "| Data Science Tools |\n",
    "|--------------------|\n",
    "| Jupyter Notebook |\n",
    "| Jupyter Lab |\n",
    "| R studio |\n",
    "| Dataspell |\n",
    "| Excell |"
   ]
  },
  {
   "cell_type": "markdown",
   "id": "289ca15a-485c-4814-89db-75401600c8c7",
   "metadata": {},
   "source": [
    "### Below are a few examples of evaluating arithmetic expressions in Python"
   ]
  },
  {
   "cell_type": "code",
   "execution_count": 1,
   "id": "050fa1b6-75b2-4139-98f5-232720a9880d",
   "metadata": {},
   "outputs": [
    {
     "data": {
      "text/plain": [
       "17"
      ]
     },
     "execution_count": 1,
     "metadata": {},
     "output_type": "execute_result"
    }
   ],
   "source": [
    "(3*4)+5"
   ]
  },
  {
   "cell_type": "code",
   "execution_count": 2,
   "id": "c25f911b-ff13-4a46-98df-b09e148ce599",
   "metadata": {},
   "outputs": [
    {
     "data": {
      "text/plain": [
       "3.3333333333333335"
      ]
     },
     "execution_count": 2,
     "metadata": {},
     "output_type": "execute_result"
    }
   ],
   "source": [
    "minute = 200\n",
    "hours = minute / 60\n",
    "hours"
   ]
  },
  {
   "cell_type": "markdown",
   "id": "b8d7e41c-d408-4654-b0f8-dd885aff5f2a",
   "metadata": {},
   "source": [
    "Objectives:\n",
    "- To create and Run a notebook file\n",
    "- To create a markdown cell and code cell\n",
    "- list popular language, tools, librarys for datascience"
   ]
  }
 ],
 "metadata": {
  "kernelspec": {
   "display_name": "Python 3 (ipykernel)",
   "language": "python",
   "name": "python3"
  },
  "language_info": {
   "codemirror_mode": {
    "name": "ipython",
    "version": 3
   },
   "file_extension": ".py",
   "mimetype": "text/x-python",
   "name": "python",
   "nbconvert_exporter": "python",
   "pygments_lexer": "ipython3",
   "version": "3.12.2"
  }
 },
 "nbformat": 4,
 "nbformat_minor": 5
}
