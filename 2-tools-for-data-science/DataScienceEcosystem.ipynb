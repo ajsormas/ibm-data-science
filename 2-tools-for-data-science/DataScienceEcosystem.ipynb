{
 "cells": [
  {
   "cell_type": "markdown",
   "id": "76ee7d60-1bc7-44b0-8835-b0f6b9324822",
   "metadata": {},
   "source": [
    "<h1>Data Science Tools and Ecosystem</h1>"
   ]
  },
  {
   "cell_type": "markdown",
   "id": "e373ecb1-d512-454a-ac6a-b3df5d40937b",
   "metadata": {},
   "source": [
    "In this notebook, Data Science Tools and Ecosystem are summarized."
   ]
  },
  {
   "cell_type": "markdown",
   "id": "81332e14-5d5a-4e00-9029-51ba0e661409",
   "metadata": {},
   "source": [
    "Some of the popular languages that Data Scientists use are:\n",
    "1. Python\n",
    "2. R\n",
    "3. Java\n",
    "4. Scala\n",
    "5. Julia"
   ]
  },
  {
   "cell_type": "markdown",
   "id": "bb893ac9-83e9-4a9b-af91-422ea1834542",
   "metadata": {},
   "source": [
    "Some of the commonly used libraries used by Data Scientists include:\n",
    "1. Numpy\n",
    "2. Pandas\n",
    "3. Matploit\n",
    "4. Tensorflow"
   ]
  }
 ],
 "metadata": {
  "kernelspec": {
   "display_name": "Python 3 (ipykernel)",
   "language": "python",
   "name": "python3"
  },
  "language_info": {
   "codemirror_mode": {
    "name": "ipython",
    "version": 3
   },
   "file_extension": ".py",
   "mimetype": "text/x-python",
   "name": "python",
   "nbconvert_exporter": "python",
   "pygments_lexer": "ipython3",
   "version": "3.12.2"
  }
 },
 "nbformat": 4,
 "nbformat_minor": 5
}
